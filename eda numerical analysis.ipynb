{
 "cells": [
  {
   "cell_type": "code",
   "execution_count": 70,
   "id": "7bce177c-7dc8-4e10-a18d-38060dece315",
   "metadata": {},
   "outputs": [],
   "source": [
    "import numpy as np\n",
    "import pandas as pd\n",
    "import matplotlib.pyplot as plt\n",
    "import seaborn as sns"
   ]
  },
  {
   "cell_type": "code",
   "execution_count": 71,
   "id": "838e446b-42d1-41ac-a552-d277fd1a5662",
   "metadata": {},
   "outputs": [
    {
     "data": {
      "text/html": [
       "<div>\n",
       "<style scoped>\n",
       "    .dataframe tbody tr th:only-of-type {\n",
       "        vertical-align: middle;\n",
       "    }\n",
       "\n",
       "    .dataframe tbody tr th {\n",
       "        vertical-align: top;\n",
       "    }\n",
       "\n",
       "    .dataframe thead th {\n",
       "        text-align: right;\n",
       "    }\n",
       "</style>\n",
       "<table border=\"1\" class=\"dataframe\">\n",
       "  <thead>\n",
       "    <tr style=\"text-align: right;\">\n",
       "      <th></th>\n",
       "      <th>case_id</th>\n",
       "      <th>continent</th>\n",
       "      <th>education_of_employee</th>\n",
       "      <th>has_job_experience</th>\n",
       "      <th>requires_job_training</th>\n",
       "      <th>no_of_employees</th>\n",
       "      <th>yr_of_estab</th>\n",
       "      <th>region_of_employment</th>\n",
       "      <th>prevailing_wage</th>\n",
       "      <th>unit_of_wage</th>\n",
       "      <th>full_time_position</th>\n",
       "      <th>case_status</th>\n",
       "    </tr>\n",
       "  </thead>\n",
       "  <tbody>\n",
       "    <tr>\n",
       "      <th>0</th>\n",
       "      <td>EZYV01</td>\n",
       "      <td>Asia</td>\n",
       "      <td>High School</td>\n",
       "      <td>N</td>\n",
       "      <td>N</td>\n",
       "      <td>14513</td>\n",
       "      <td>2007</td>\n",
       "      <td>West</td>\n",
       "      <td>592.2029</td>\n",
       "      <td>Hour</td>\n",
       "      <td>Y</td>\n",
       "      <td>Denied</td>\n",
       "    </tr>\n",
       "    <tr>\n",
       "      <th>1</th>\n",
       "      <td>EZYV02</td>\n",
       "      <td>Asia</td>\n",
       "      <td>Master's</td>\n",
       "      <td>Y</td>\n",
       "      <td>N</td>\n",
       "      <td>2412</td>\n",
       "      <td>2002</td>\n",
       "      <td>Northeast</td>\n",
       "      <td>83425.6500</td>\n",
       "      <td>Year</td>\n",
       "      <td>Y</td>\n",
       "      <td>Certified</td>\n",
       "    </tr>\n",
       "    <tr>\n",
       "      <th>2</th>\n",
       "      <td>EZYV03</td>\n",
       "      <td>Asia</td>\n",
       "      <td>Bachelor's</td>\n",
       "      <td>N</td>\n",
       "      <td>Y</td>\n",
       "      <td>44444</td>\n",
       "      <td>2008</td>\n",
       "      <td>West</td>\n",
       "      <td>122996.8600</td>\n",
       "      <td>Year</td>\n",
       "      <td>Y</td>\n",
       "      <td>Denied</td>\n",
       "    </tr>\n",
       "    <tr>\n",
       "      <th>3</th>\n",
       "      <td>EZYV04</td>\n",
       "      <td>Asia</td>\n",
       "      <td>Bachelor's</td>\n",
       "      <td>N</td>\n",
       "      <td>N</td>\n",
       "      <td>98</td>\n",
       "      <td>1897</td>\n",
       "      <td>West</td>\n",
       "      <td>83434.0300</td>\n",
       "      <td>Year</td>\n",
       "      <td>Y</td>\n",
       "      <td>Denied</td>\n",
       "    </tr>\n",
       "    <tr>\n",
       "      <th>4</th>\n",
       "      <td>EZYV05</td>\n",
       "      <td>Africa</td>\n",
       "      <td>Master's</td>\n",
       "      <td>Y</td>\n",
       "      <td>N</td>\n",
       "      <td>1082</td>\n",
       "      <td>2005</td>\n",
       "      <td>South</td>\n",
       "      <td>149907.3900</td>\n",
       "      <td>Year</td>\n",
       "      <td>Y</td>\n",
       "      <td>Certified</td>\n",
       "    </tr>\n",
       "    <tr>\n",
       "      <th>...</th>\n",
       "      <td>...</td>\n",
       "      <td>...</td>\n",
       "      <td>...</td>\n",
       "      <td>...</td>\n",
       "      <td>...</td>\n",
       "      <td>...</td>\n",
       "      <td>...</td>\n",
       "      <td>...</td>\n",
       "      <td>...</td>\n",
       "      <td>...</td>\n",
       "      <td>...</td>\n",
       "      <td>...</td>\n",
       "    </tr>\n",
       "    <tr>\n",
       "      <th>25475</th>\n",
       "      <td>EZYV25476</td>\n",
       "      <td>Asia</td>\n",
       "      <td>Bachelor's</td>\n",
       "      <td>Y</td>\n",
       "      <td>Y</td>\n",
       "      <td>2601</td>\n",
       "      <td>2008</td>\n",
       "      <td>South</td>\n",
       "      <td>77092.5700</td>\n",
       "      <td>Year</td>\n",
       "      <td>Y</td>\n",
       "      <td>Certified</td>\n",
       "    </tr>\n",
       "    <tr>\n",
       "      <th>25476</th>\n",
       "      <td>EZYV25477</td>\n",
       "      <td>Asia</td>\n",
       "      <td>High School</td>\n",
       "      <td>Y</td>\n",
       "      <td>N</td>\n",
       "      <td>3274</td>\n",
       "      <td>2006</td>\n",
       "      <td>Northeast</td>\n",
       "      <td>279174.7900</td>\n",
       "      <td>Year</td>\n",
       "      <td>Y</td>\n",
       "      <td>Certified</td>\n",
       "    </tr>\n",
       "    <tr>\n",
       "      <th>25477</th>\n",
       "      <td>EZYV25478</td>\n",
       "      <td>Asia</td>\n",
       "      <td>Master's</td>\n",
       "      <td>Y</td>\n",
       "      <td>N</td>\n",
       "      <td>1121</td>\n",
       "      <td>1910</td>\n",
       "      <td>South</td>\n",
       "      <td>146298.8500</td>\n",
       "      <td>Year</td>\n",
       "      <td>N</td>\n",
       "      <td>Certified</td>\n",
       "    </tr>\n",
       "    <tr>\n",
       "      <th>25478</th>\n",
       "      <td>EZYV25479</td>\n",
       "      <td>Asia</td>\n",
       "      <td>Master's</td>\n",
       "      <td>Y</td>\n",
       "      <td>Y</td>\n",
       "      <td>1918</td>\n",
       "      <td>1887</td>\n",
       "      <td>West</td>\n",
       "      <td>86154.7700</td>\n",
       "      <td>Year</td>\n",
       "      <td>Y</td>\n",
       "      <td>Certified</td>\n",
       "    </tr>\n",
       "    <tr>\n",
       "      <th>25479</th>\n",
       "      <td>EZYV25480</td>\n",
       "      <td>Asia</td>\n",
       "      <td>Bachelor's</td>\n",
       "      <td>Y</td>\n",
       "      <td>N</td>\n",
       "      <td>3195</td>\n",
       "      <td>1960</td>\n",
       "      <td>Midwest</td>\n",
       "      <td>70876.9100</td>\n",
       "      <td>Year</td>\n",
       "      <td>Y</td>\n",
       "      <td>Certified</td>\n",
       "    </tr>\n",
       "  </tbody>\n",
       "</table>\n",
       "<p>25480 rows × 12 columns</p>\n",
       "</div>"
      ],
      "text/plain": [
       "         case_id continent education_of_employee has_job_experience  \\\n",
       "0         EZYV01      Asia           High School                  N   \n",
       "1         EZYV02      Asia              Master's                  Y   \n",
       "2         EZYV03      Asia            Bachelor's                  N   \n",
       "3         EZYV04      Asia            Bachelor's                  N   \n",
       "4         EZYV05    Africa              Master's                  Y   \n",
       "...          ...       ...                   ...                ...   \n",
       "25475  EZYV25476      Asia            Bachelor's                  Y   \n",
       "25476  EZYV25477      Asia           High School                  Y   \n",
       "25477  EZYV25478      Asia              Master's                  Y   \n",
       "25478  EZYV25479      Asia              Master's                  Y   \n",
       "25479  EZYV25480      Asia            Bachelor's                  Y   \n",
       "\n",
       "      requires_job_training  no_of_employees  yr_of_estab  \\\n",
       "0                         N            14513         2007   \n",
       "1                         N             2412         2002   \n",
       "2                         Y            44444         2008   \n",
       "3                         N               98         1897   \n",
       "4                         N             1082         2005   \n",
       "...                     ...              ...          ...   \n",
       "25475                     Y             2601         2008   \n",
       "25476                     N             3274         2006   \n",
       "25477                     N             1121         1910   \n",
       "25478                     Y             1918         1887   \n",
       "25479                     N             3195         1960   \n",
       "\n",
       "      region_of_employment  prevailing_wage unit_of_wage full_time_position  \\\n",
       "0                     West         592.2029         Hour                  Y   \n",
       "1                Northeast       83425.6500         Year                  Y   \n",
       "2                     West      122996.8600         Year                  Y   \n",
       "3                     West       83434.0300         Year                  Y   \n",
       "4                    South      149907.3900         Year                  Y   \n",
       "...                    ...              ...          ...                ...   \n",
       "25475                South       77092.5700         Year                  Y   \n",
       "25476            Northeast      279174.7900         Year                  Y   \n",
       "25477                South      146298.8500         Year                  N   \n",
       "25478                 West       86154.7700         Year                  Y   \n",
       "25479              Midwest       70876.9100         Year                  Y   \n",
       "\n",
       "      case_status  \n",
       "0          Denied  \n",
       "1       Certified  \n",
       "2          Denied  \n",
       "3          Denied  \n",
       "4       Certified  \n",
       "...           ...  \n",
       "25475   Certified  \n",
       "25476   Certified  \n",
       "25477   Certified  \n",
       "25478   Certified  \n",
       "25479   Certified  \n",
       "\n",
       "[25480 rows x 12 columns]"
      ]
     },
     "execution_count": 71,
     "metadata": {},
     "output_type": "execute_result"
    }
   ],
   "source": [
    "visa_df=pd.read_csv(r\"C:\\Users\\HP\\EDA\\dataset\\Visadataset.csv\")\n",
    "visa_df"
   ]
  },
  {
   "cell_type": "code",
   "execution_count": 72,
   "id": "dce65e10-2125-4a26-8f5b-834419108113",
   "metadata": {},
   "outputs": [
    {
     "data": {
      "text/plain": [
       "Index(['no_of_employees', 'yr_of_estab', 'prevailing_wage'], dtype='object')"
      ]
     },
     "execution_count": 72,
     "metadata": {},
     "output_type": "execute_result"
    }
   ],
   "source": [
    "num_col=visa_df.select_dtypes(exclude=\"object\").columns\n",
    "num_col"
   ]
  },
  {
   "cell_type": "code",
   "execution_count": 73,
   "id": "0c29fbc2-1a61-4b7b-9425-8e5722b3fd2c",
   "metadata": {},
   "outputs": [
    {
     "data": {
      "text/plain": [
       "0           592.2029\n",
       "1         83425.6500\n",
       "2        122996.8600\n",
       "3         83434.0300\n",
       "4        149907.3900\n",
       "            ...     \n",
       "25475     77092.5700\n",
       "25476    279174.7900\n",
       "25477    146298.8500\n",
       "25478     86154.7700\n",
       "25479     70876.9100\n",
       "Name: prevailing_wage, Length: 25480, dtype: float64"
      ]
     },
     "execution_count": 73,
     "metadata": {},
     "output_type": "execute_result"
    }
   ],
   "source": [
    "visa_df[[\"prevailing_wage\"]]\n",
    "visa_df[\"prevailing_wage\"]\n",
    "visa_df.iloc[:,[8]]\n",
    "visa_df.loc[:,\"prevailing_wage\"]"
   ]
  },
  {
   "cell_type": "markdown",
   "id": "6d618e3c-098f-40b6-8a0d-70ab99a17e39",
   "metadata": {},
   "source": [
    "- len\n",
    "- min\n",
    "- max\n",
    "- average(mean)\n",
    "- standard deviation\n",
    "- median\n",
    "- 25p\n",
    "- 50p\n",
    "- 75p"
   ]
  },
  {
   "cell_type": "markdown",
   "id": "f38ce404-3536-49f9-bcf8-9a8a5f4f5cae",
   "metadata": {},
   "source": [
    "**length**"
   ]
  },
  {
   "cell_type": "code",
   "execution_count": 74,
   "id": "6ebd3126-0905-4584-9c92-bf3be7645d6a",
   "metadata": {},
   "outputs": [
    {
     "data": {
      "text/plain": [
       "25480"
      ]
     },
     "execution_count": 74,
     "metadata": {},
     "output_type": "execute_result"
    }
   ],
   "source": [
    "len(visa_df)"
   ]
  },
  {
   "cell_type": "markdown",
   "id": "9f5c3875-8f29-4671-a53e-41f5d0dca7bc",
   "metadata": {},
   "source": [
    "**min**"
   ]
  },
  {
   "cell_type": "code",
   "execution_count": 75,
   "id": "bb3e3a70-3295-4b71-ae28-b96ddb235ca2",
   "metadata": {},
   "outputs": [
    {
     "ename": "TypeError",
     "evalue": "'float' object is not callable",
     "output_type": "error",
     "traceback": [
      "\u001b[1;31m---------------------------------------------------------------------------\u001b[0m",
      "\u001b[1;31mTypeError\u001b[0m                                 Traceback (most recent call last)",
      "Cell \u001b[1;32mIn[75], line 1\u001b[0m\n\u001b[1;32m----> 1\u001b[0m \u001b[38;5;28mmin\u001b[39m(visa_df[\u001b[38;5;124m'\u001b[39m\u001b[38;5;124mprevailing_wage\u001b[39m\u001b[38;5;124m'\u001b[39m])\n",
      "\u001b[1;31mTypeError\u001b[0m: 'float' object is not callable"
     ]
    }
   ],
   "source": [
    "\n",
    "min(visa_df['prevailing_wage'])"
   ]
  },
  {
   "cell_type": "code",
   "execution_count": 76,
   "id": "b8fda964-5ec8-4d66-8caa-455e09f55d27",
   "metadata": {},
   "outputs": [
    {
     "data": {
      "text/plain": [
       "2.1367"
      ]
     },
     "execution_count": 76,
     "metadata": {},
     "output_type": "execute_result"
    }
   ],
   "source": [
    "visa_df[\"prevailing_wage\"].min()"
   ]
  },
  {
   "cell_type": "code",
   "execution_count": 77,
   "id": "bd82ad76-f649-4424-9ae5-0871601c6a89",
   "metadata": {},
   "outputs": [
    {
     "data": {
      "text/plain": [
       "319210.27"
      ]
     },
     "execution_count": 77,
     "metadata": {},
     "output_type": "execute_result"
    }
   ],
   "source": [
    "visa_df[\"prevailing_wage\"].max()"
   ]
  },
  {
   "cell_type": "code",
   "execution_count": 78,
   "id": "6e72e6da-e699-43c2-812f-6e8e99034120",
   "metadata": {},
   "outputs": [
    {
     "data": {
      "text/plain": [
       "(25480, 2.1367, 319210.27)"
      ]
     },
     "execution_count": 78,
     "metadata": {},
     "output_type": "execute_result"
    }
   ],
   "source": [
    "count=len(visa_df[\"prevailing_wage\"])\n",
    "min_wage=visa_df[\"prevailing_wage\"].min()\n",
    "max_wage=visa_df[\"prevailing_wage\"].max()\n",
    "count,min_wage,max_wage"
   ]
  },
  {
   "cell_type": "markdown",
   "id": "d54111ca-eb2f-4137-b8b4-3563d151942d",
   "metadata": {},
   "source": [
    "**mean**"
   ]
  },
  {
   "cell_type": "code",
   "execution_count": 79,
   "id": "66ddf345-2632-47af-ac79-4ab3e0221905",
   "metadata": {},
   "outputs": [
    {
     "data": {
      "text/plain": [
       "74455.81"
      ]
     },
     "execution_count": 79,
     "metadata": {},
     "output_type": "execute_result"
    }
   ],
   "source": [
    "mean_wage=round(visa_df[\"prevailing_wage\"].mean(),2)\n",
    "mean_wage"
   ]
  },
  {
   "cell_type": "markdown",
   "id": "1a7108d8-1c4d-42a3-aea6-b14eeb15510a",
   "metadata": {},
   "source": [
    "**median**"
   ]
  },
  {
   "cell_type": "code",
   "execution_count": 80,
   "id": "f05334a4-c840-407b-a8ae-1839e469368a",
   "metadata": {},
   "outputs": [
    {
     "data": {
      "text/plain": [
       "70308.21"
      ]
     },
     "execution_count": 80,
     "metadata": {},
     "output_type": "execute_result"
    }
   ],
   "source": [
    "median_wage=round(visa_df[\"prevailing_wage\"].median(),2)\n",
    "median_wage"
   ]
  },
  {
   "cell_type": "code",
   "execution_count": 81,
   "id": "a0cfb484-d4b3-41ed-bce6-f9415afcd5e0",
   "metadata": {},
   "outputs": [],
   "source": [
    "#visa_df[\"prevailing_wage\"].mode()"
   ]
  },
  {
   "cell_type": "markdown",
   "id": "cf2bae80-5a8b-4a71-a47e-7d944b93e608",
   "metadata": {},
   "source": [
    "- mode is ot suitable metric for numerical analysis\n",
    "- different observations can have same values"
   ]
  },
  {
   "cell_type": "markdown",
   "id": "c3903506-a049-491c-825e-da3027445a48",
   "metadata": {},
   "source": [
    "**using numpy**"
   ]
  },
  {
   "cell_type": "code",
   "execution_count": 82,
   "id": "43e1868d-3cd2-4643-8e6f-d58e18b07133",
   "metadata": {},
   "outputs": [
    {
     "data": {
      "text/plain": [
       "74455.81"
      ]
     },
     "execution_count": 82,
     "metadata": {},
     "output_type": "execute_result"
    }
   ],
   "source": [
    "round(np.mean(visa_df[\"prevailing_wage\"]),2)"
   ]
  },
  {
   "cell_type": "code",
   "execution_count": 83,
   "id": "29e6b02d-361e-472a-adc4-741b89cdca7e",
   "metadata": {},
   "outputs": [
    {
     "data": {
      "text/plain": [
       "70308.21"
      ]
     },
     "execution_count": 83,
     "metadata": {},
     "output_type": "execute_result"
    }
   ],
   "source": [
    "round(np.median(visa_df[\"prevailing_wage\"]),2)"
   ]
  },
  {
   "cell_type": "markdown",
   "id": "a0b74f9f-8e01-4013-9862-57727dcaead5",
   "metadata": {},
   "source": [
    "\n",
    "\n",
    "\n",
    "\n",
    "\n",
    "\n",
    "\n",
    "**standard deviation std**"
   ]
  },
  {
   "cell_type": "code",
   "execution_count": 84,
   "id": "d5b29364-a9eb-4eef-970b-97da2c62c3fb",
   "metadata": {},
   "outputs": [],
   "source": [
    "std=round(visa_df[\"prevailing_wage\"].std(),2)"
   ]
  },
  {
   "cell_type": "code",
   "execution_count": 85,
   "id": "6cf67ee6-f3f3-4f1a-bfcd-fe5ddb02440d",
   "metadata": {},
   "outputs": [],
   "source": [
    "count=len(visa_df[\"prevailing_wage\"])\n",
    "min_wage=visa_df[\"prevailing_wage\"].min()\n",
    "max_wage=visa_df[\"prevailing_wage\"].max()\n",
    "mean_wage=round(visa_df[\"prevailing_wage\"].mean(),2)\n",
    "median_wage=round(visa_df[\"prevailing_wage\"].median(),2)\n",
    "std=round(visa_df[\"prevailing_wage\"].std(),2)"
   ]
  },
  {
   "cell_type": "code",
   "execution_count": 86,
   "id": "e02ac1f7-513c-45e8-9102-64b57397d319",
   "metadata": {},
   "outputs": [
    {
     "data": {
      "text/plain": [
       "2.1367"
      ]
     },
     "execution_count": 86,
     "metadata": {},
     "output_type": "execute_result"
    }
   ],
   "source": [
    "visa_df[\"prevailing_wage\"].min()\n"
   ]
  },
  {
   "cell_type": "code",
   "execution_count": 87,
   "id": "ab7a396b-90fa-43f2-8a88-ed719bb91cfa",
   "metadata": {},
   "outputs": [
    {
     "data": {
      "text/html": [
       "<div>\n",
       "<style scoped>\n",
       "    .dataframe tbody tr th:only-of-type {\n",
       "        vertical-align: middle;\n",
       "    }\n",
       "\n",
       "    .dataframe tbody tr th {\n",
       "        vertical-align: top;\n",
       "    }\n",
       "\n",
       "    .dataframe thead th {\n",
       "        text-align: right;\n",
       "    }\n",
       "</style>\n",
       "<table border=\"1\" class=\"dataframe\">\n",
       "  <thead>\n",
       "    <tr style=\"text-align: right;\">\n",
       "      <th></th>\n",
       "      <th>prevaling_wage</th>\n",
       "    </tr>\n",
       "  </thead>\n",
       "  <tbody>\n",
       "    <tr>\n",
       "      <th>count</th>\n",
       "      <td>25480.0000</td>\n",
       "    </tr>\n",
       "    <tr>\n",
       "      <th>min</th>\n",
       "      <td>2.1367</td>\n",
       "    </tr>\n",
       "    <tr>\n",
       "      <th>max</th>\n",
       "      <td>319210.2700</td>\n",
       "    </tr>\n",
       "    <tr>\n",
       "      <th>mean</th>\n",
       "      <td>74455.8100</td>\n",
       "    </tr>\n",
       "    <tr>\n",
       "      <th>median</th>\n",
       "      <td>70308.2100</td>\n",
       "    </tr>\n",
       "    <tr>\n",
       "      <th>std</th>\n",
       "      <td>52815.9400</td>\n",
       "    </tr>\n",
       "  </tbody>\n",
       "</table>\n",
       "</div>"
      ],
      "text/plain": [
       "        prevaling_wage\n",
       "count       25480.0000\n",
       "min             2.1367\n",
       "max        319210.2700\n",
       "mean        74455.8100\n",
       "median      70308.2100\n",
       "std         52815.9400"
      ]
     },
     "execution_count": 87,
     "metadata": {},
     "output_type": "execute_result"
    }
   ],
   "source": [
    "l=[count,min_wage,max_wage,mean_wage,median_wage,std]\n",
    "index=[\"count\",\"min\",\"max\",\"mean\",\"median\",\"std\"]\n",
    "num_df=pd.DataFrame(l,index=[index],columns=[\"prevaling_wage\"])\n",
    "num_df"
   ]
  },
  {
   "cell_type": "code",
   "execution_count": 88,
   "id": "62ecafbf-8be0-4cce-a966-6e63d32fa59d",
   "metadata": {},
   "outputs": [
    {
     "data": {
      "text/html": [
       "<div>\n",
       "<style scoped>\n",
       "    .dataframe tbody tr th:only-of-type {\n",
       "        vertical-align: middle;\n",
       "    }\n",
       "\n",
       "    .dataframe tbody tr th {\n",
       "        vertical-align: top;\n",
       "    }\n",
       "\n",
       "    .dataframe thead th {\n",
       "        text-align: right;\n",
       "    }\n",
       "</style>\n",
       "<table border=\"1\" class=\"dataframe\">\n",
       "  <thead>\n",
       "    <tr style=\"text-align: right;\">\n",
       "      <th></th>\n",
       "      <th>no_of_employees</th>\n",
       "      <th>yr_of_estab</th>\n",
       "      <th>prevailing_wage</th>\n",
       "    </tr>\n",
       "  </thead>\n",
       "  <tbody>\n",
       "    <tr>\n",
       "      <th>count</th>\n",
       "      <td>25480.000000</td>\n",
       "      <td>25480.000000</td>\n",
       "      <td>25480.000000</td>\n",
       "    </tr>\n",
       "    <tr>\n",
       "      <th>mean</th>\n",
       "      <td>5667.043210</td>\n",
       "      <td>1979.409929</td>\n",
       "      <td>74455.814592</td>\n",
       "    </tr>\n",
       "    <tr>\n",
       "      <th>std</th>\n",
       "      <td>22877.928848</td>\n",
       "      <td>42.366929</td>\n",
       "      <td>52815.942327</td>\n",
       "    </tr>\n",
       "    <tr>\n",
       "      <th>min</th>\n",
       "      <td>-26.000000</td>\n",
       "      <td>1800.000000</td>\n",
       "      <td>2.136700</td>\n",
       "    </tr>\n",
       "    <tr>\n",
       "      <th>25%</th>\n",
       "      <td>1022.000000</td>\n",
       "      <td>1976.000000</td>\n",
       "      <td>34015.480000</td>\n",
       "    </tr>\n",
       "    <tr>\n",
       "      <th>50%</th>\n",
       "      <td>2109.000000</td>\n",
       "      <td>1997.000000</td>\n",
       "      <td>70308.210000</td>\n",
       "    </tr>\n",
       "    <tr>\n",
       "      <th>75%</th>\n",
       "      <td>3504.000000</td>\n",
       "      <td>2005.000000</td>\n",
       "      <td>107735.512500</td>\n",
       "    </tr>\n",
       "    <tr>\n",
       "      <th>max</th>\n",
       "      <td>602069.000000</td>\n",
       "      <td>2016.000000</td>\n",
       "      <td>319210.270000</td>\n",
       "    </tr>\n",
       "  </tbody>\n",
       "</table>\n",
       "</div>"
      ],
      "text/plain": [
       "       no_of_employees   yr_of_estab  prevailing_wage\n",
       "count     25480.000000  25480.000000     25480.000000\n",
       "mean       5667.043210   1979.409929     74455.814592\n",
       "std       22877.928848     42.366929     52815.942327\n",
       "min         -26.000000   1800.000000         2.136700\n",
       "25%        1022.000000   1976.000000     34015.480000\n",
       "50%        2109.000000   1997.000000     70308.210000\n",
       "75%        3504.000000   2005.000000    107735.512500\n",
       "max      602069.000000   2016.000000    319210.270000"
      ]
     },
     "execution_count": 88,
     "metadata": {},
     "output_type": "execute_result"
    }
   ],
   "source": [
    "visa_df.describe()"
   ]
  },
  {
   "cell_type": "markdown",
   "id": "a22b2fa9-5d18-4ea2-a010-dc37d8a08ced",
   "metadata": {},
   "source": [
    "**25p-50p-75p**"
   ]
  },
  {
   "cell_type": "markdown",
   "id": "b0ad2a4c-e539-47b8-90df-7c2a1118481a",
   "metadata": {},
   "source": [
    "\n",
    "**percentile**\n",
    "- in numpy we have percentile\n",
    "- the method is np.percentile()\n",
    "- it takes two arguments one is a: array notohng but data, q: is percentile we want.\n",
    "- if we want 25p value then q=25\n",
    "\n",
    "**quantile**\n",
    "- In numpy we have quantile method\n",
    "- the method is np.quantile()\n",
    "- - it takes two arguments one is a: array nothing but data, q: is percentile we want.\n",
    "  - if we want 25p value then q=0.25\n",
    "  - if er want 50p value then q= 0.50\n"
   ]
  },
  {
   "cell_type": "code",
   "execution_count": 89,
   "id": "a7123868-d13a-4deb-9023-011739ecd379",
   "metadata": {},
   "outputs": [
    {
     "data": {
      "text/plain": [
       "(34015.48, 34015.48, 107735.51)"
      ]
     },
     "execution_count": 89,
     "metadata": {},
     "output_type": "execute_result"
    }
   ],
   "source": [
    "wage_25=round(np.percentile(visa_df[\"prevailing_wage\"],25),2)\n",
    "#0 to 100\n",
    "wage_50=round(np.percentile(visa_df[\"prevailing_wage\"],50),2)\n",
    "wage_75=round(np.percentile(visa_df[\"prevailing_wage\"],75),2)\n",
    "wage_25,wage_25,wage_75"
   ]
  },
  {
   "cell_type": "code",
   "execution_count": 90,
   "id": "0acb086b-c3b2-4f6a-b77a-6d28153b1981",
   "metadata": {},
   "outputs": [
    {
     "data": {
      "text/html": [
       "<div>\n",
       "<style scoped>\n",
       "    .dataframe tbody tr th:only-of-type {\n",
       "        vertical-align: middle;\n",
       "    }\n",
       "\n",
       "    .dataframe tbody tr th {\n",
       "        vertical-align: top;\n",
       "    }\n",
       "\n",
       "    .dataframe thead th {\n",
       "        text-align: right;\n",
       "    }\n",
       "</style>\n",
       "<table border=\"1\" class=\"dataframe\">\n",
       "  <thead>\n",
       "    <tr style=\"text-align: right;\">\n",
       "      <th></th>\n",
       "      <th>prevaling_wage</th>\n",
       "    </tr>\n",
       "  </thead>\n",
       "  <tbody>\n",
       "    <tr>\n",
       "      <th>count</th>\n",
       "      <td>25480.0000</td>\n",
       "    </tr>\n",
       "    <tr>\n",
       "      <th>min</th>\n",
       "      <td>2.1367</td>\n",
       "    </tr>\n",
       "    <tr>\n",
       "      <th>max</th>\n",
       "      <td>319210.2700</td>\n",
       "    </tr>\n",
       "    <tr>\n",
       "      <th>mean</th>\n",
       "      <td>74455.8100</td>\n",
       "    </tr>\n",
       "    <tr>\n",
       "      <th>median</th>\n",
       "      <td>70308.2100</td>\n",
       "    </tr>\n",
       "    <tr>\n",
       "      <th>std</th>\n",
       "      <td>52815.9400</td>\n",
       "    </tr>\n",
       "    <tr>\n",
       "      <th>25p</th>\n",
       "      <td>34015.4800</td>\n",
       "    </tr>\n",
       "    <tr>\n",
       "      <th>50p</th>\n",
       "      <td>70308.2100</td>\n",
       "    </tr>\n",
       "    <tr>\n",
       "      <th>75 p</th>\n",
       "      <td>107735.5100</td>\n",
       "    </tr>\n",
       "  </tbody>\n",
       "</table>\n",
       "</div>"
      ],
      "text/plain": [
       "        prevaling_wage\n",
       "count       25480.0000\n",
       "min             2.1367\n",
       "max        319210.2700\n",
       "mean        74455.8100\n",
       "median      70308.2100\n",
       "std         52815.9400\n",
       "25p         34015.4800\n",
       "50p         70308.2100\n",
       "75 p       107735.5100"
      ]
     },
     "execution_count": 90,
     "metadata": {},
     "output_type": "execute_result"
    }
   ],
   "source": [
    "count=len(visa_df[\"prevailing_wage\"])\n",
    "min_wage=visa_df[\"prevailing_wage\"].min()\n",
    "max_wage=visa_df[\"prevailing_wage\"].max()\n",
    "mean_wage=round(visa_df[\"prevailing_wage\"].mean(),2)\n",
    "median_wage=round(visa_df[\"prevailing_wage\"].median(),2)\n",
    "std=round(visa_df[\"prevailing_wage\"].std(),2)\n",
    "wage_25=round(np.percentile(visa_df[\"prevailing_wage\"],25),2)\n",
    "wage_50=round(np.percentile(visa_df[\"prevailing_wage\"],50),2)\n",
    "wage_75=round(np.percentile(visa_df[\"prevailing_wage\"],75),2)\n",
    "\n",
    "\n",
    "\n",
    "l=[count,min_wage,max_wage,mean_wage,median_wage,std,wage_25,wage_50,wage_75]\n",
    "index=[\"count\",\"min\",\"max\",\"mean\",\"median\",\"std\",\"25p\",\"50p\",\"75 p\"]\n",
    "num_df=pd.DataFrame(l,index=[index],columns=[\"prevaling_wage\"])\n",
    "num_df"
   ]
  },
  {
   "cell_type": "code",
   "execution_count": 91,
   "id": "ae1fcdea-b6b0-4fcb-ae5b-e3c846a22e6d",
   "metadata": {},
   "outputs": [
    {
     "data": {
      "text/plain": [
       "107735.51250000001"
      ]
     },
     "execution_count": 91,
     "metadata": {},
     "output_type": "execute_result"
    }
   ],
   "source": [
    "np.quantile(visa_df[\"prevailing_wage\"],0.25)\n",
    "#0 to 1\n",
    "np.quantile(visa_df[\"prevailing_wage\"],0.50)\n",
    "np.quantile(visa_df[\"prevailing_wage\"],0.75)"
   ]
  },
  {
   "cell_type": "code",
   "execution_count": 92,
   "id": "60fa608c-8cd0-41cd-9152-7f0463fa2a15",
   "metadata": {},
   "outputs": [
    {
     "data": {
      "text/html": [
       "<div>\n",
       "<style scoped>\n",
       "    .dataframe tbody tr th:only-of-type {\n",
       "        vertical-align: middle;\n",
       "    }\n",
       "\n",
       "    .dataframe tbody tr th {\n",
       "        vertical-align: top;\n",
       "    }\n",
       "\n",
       "    .dataframe thead th {\n",
       "        text-align: right;\n",
       "    }\n",
       "</style>\n",
       "<table border=\"1\" class=\"dataframe\">\n",
       "  <thead>\n",
       "    <tr style=\"text-align: right;\">\n",
       "      <th></th>\n",
       "      <th>prevaling_wage</th>\n",
       "    </tr>\n",
       "  </thead>\n",
       "  <tbody>\n",
       "    <tr>\n",
       "      <th>count</th>\n",
       "      <td>25480.0000</td>\n",
       "    </tr>\n",
       "    <tr>\n",
       "      <th>min</th>\n",
       "      <td>2.1367</td>\n",
       "    </tr>\n",
       "    <tr>\n",
       "      <th>max</th>\n",
       "      <td>319210.2700</td>\n",
       "    </tr>\n",
       "    <tr>\n",
       "      <th>mean</th>\n",
       "      <td>74455.8100</td>\n",
       "    </tr>\n",
       "    <tr>\n",
       "      <th>median</th>\n",
       "      <td>70308.2100</td>\n",
       "    </tr>\n",
       "    <tr>\n",
       "      <th>std</th>\n",
       "      <td>52815.9400</td>\n",
       "    </tr>\n",
       "    <tr>\n",
       "      <th>25p</th>\n",
       "      <td>34015.4800</td>\n",
       "    </tr>\n",
       "    <tr>\n",
       "      <th>50p</th>\n",
       "      <td>70308.2100</td>\n",
       "    </tr>\n",
       "    <tr>\n",
       "      <th>75 p</th>\n",
       "      <td>107735.5100</td>\n",
       "    </tr>\n",
       "  </tbody>\n",
       "</table>\n",
       "</div>"
      ],
      "text/plain": [
       "        prevaling_wage\n",
       "count       25480.0000\n",
       "min             2.1367\n",
       "max        319210.2700\n",
       "mean        74455.8100\n",
       "median      70308.2100\n",
       "std         52815.9400\n",
       "25p         34015.4800\n",
       "50p         70308.2100\n",
       "75 p       107735.5100"
      ]
     },
     "execution_count": 92,
     "metadata": {},
     "output_type": "execute_result"
    }
   ],
   "source": [
    "count=len(visa_df[\"prevailing_wage\"])\n",
    "min_wage=visa_df[\"prevailing_wage\"].min()\n",
    "max_wage=visa_df[\"prevailing_wage\"].max()\n",
    "mean_wage=round(visa_df[\"prevailing_wage\"].mean(),2)\n",
    "median_wage=round(visa_df[\"prevailing_wage\"].median(),2)\n",
    "std=round(visa_df[\"prevailing_wage\"].std(),2)\n",
    "wage_25=round(np.percentile(visa_df[\"prevailing_wage\"],25),2)\n",
    "wage_50=round(np.percentile(visa_df[\"prevailing_wage\"],50),2)\n",
    "wage_75=round(np.percentile(visa_df[\"prevailing_wage\"],75),2)\n",
    "\n",
    "\n",
    "\n",
    "l=[count,min_wage,max_wage,mean_wage,median_wage,std,wage_25,wage_50,wage_75]\n",
    "index=[\"count\",\"min\",\"max\",\"mean\",\"median\",\"std\",\"25p\",\"50p\",\"75 p\"]\n",
    "num_df=pd.DataFrame(l,index=[index],columns=[\"prevaling_wage\"])\n",
    "num_df"
   ]
  },
  {
   "cell_type": "code",
   "execution_count": 93,
   "id": "6ed35cd4-f99e-4832-b52a-0695fa6d724e",
   "metadata": {},
   "outputs": [
    {
     "data": {
      "text/html": [
       "<div>\n",
       "<style scoped>\n",
       "    .dataframe tbody tr th:only-of-type {\n",
       "        vertical-align: middle;\n",
       "    }\n",
       "\n",
       "    .dataframe tbody tr th {\n",
       "        vertical-align: top;\n",
       "    }\n",
       "\n",
       "    .dataframe thead th {\n",
       "        text-align: right;\n",
       "    }\n",
       "</style>\n",
       "<table border=\"1\" class=\"dataframe\">\n",
       "  <thead>\n",
       "    <tr style=\"text-align: right;\">\n",
       "      <th></th>\n",
       "      <th>no_of_employees</th>\n",
       "      <th>yr_of_estab</th>\n",
       "      <th>prevailing_wage</th>\n",
       "    </tr>\n",
       "  </thead>\n",
       "  <tbody>\n",
       "    <tr>\n",
       "      <th>count</th>\n",
       "      <td>25480.00</td>\n",
       "      <td>25480.00</td>\n",
       "      <td>25480.0000</td>\n",
       "    </tr>\n",
       "    <tr>\n",
       "      <th>min</th>\n",
       "      <td>-26.00</td>\n",
       "      <td>1800.00</td>\n",
       "      <td>2.1367</td>\n",
       "    </tr>\n",
       "    <tr>\n",
       "      <th>max</th>\n",
       "      <td>602069.00</td>\n",
       "      <td>2016.00</td>\n",
       "      <td>319210.2700</td>\n",
       "    </tr>\n",
       "    <tr>\n",
       "      <th>mean</th>\n",
       "      <td>5667.04</td>\n",
       "      <td>1979.41</td>\n",
       "      <td>74455.8100</td>\n",
       "    </tr>\n",
       "    <tr>\n",
       "      <th>median</th>\n",
       "      <td>2109.00</td>\n",
       "      <td>1997.00</td>\n",
       "      <td>70308.2100</td>\n",
       "    </tr>\n",
       "    <tr>\n",
       "      <th>std</th>\n",
       "      <td>22877.93</td>\n",
       "      <td>42.37</td>\n",
       "      <td>52815.9400</td>\n",
       "    </tr>\n",
       "    <tr>\n",
       "      <th>25p</th>\n",
       "      <td>1022.00</td>\n",
       "      <td>1976.00</td>\n",
       "      <td>34015.4800</td>\n",
       "    </tr>\n",
       "    <tr>\n",
       "      <th>50p</th>\n",
       "      <td>2109.00</td>\n",
       "      <td>1997.00</td>\n",
       "      <td>70308.2100</td>\n",
       "    </tr>\n",
       "    <tr>\n",
       "      <th>75 p</th>\n",
       "      <td>3504.00</td>\n",
       "      <td>2005.00</td>\n",
       "      <td>107735.5100</td>\n",
       "    </tr>\n",
       "  </tbody>\n",
       "</table>\n",
       "</div>"
      ],
      "text/plain": [
       "        no_of_employees  yr_of_estab  prevailing_wage\n",
       "count          25480.00     25480.00       25480.0000\n",
       "min              -26.00      1800.00           2.1367\n",
       "max           602069.00      2016.00      319210.2700\n",
       "mean            5667.04      1979.41       74455.8100\n",
       "median          2109.00      1997.00       70308.2100\n",
       "std            22877.93        42.37       52815.9400\n",
       "25p             1022.00      1976.00       34015.4800\n",
       "50p             2109.00      1997.00       70308.2100\n",
       "75 p            3504.00      2005.00      107735.5100"
      ]
     },
     "execution_count": 93,
     "metadata": {},
     "output_type": "execute_result"
    }
   ],
   "source": [
    "index=[\"count\",\"min\",\"max\",\"mean\",\"median\",\"std\",\"25p\",\"50p\",\"75 p\"]\n",
    "num_col=visa_df.select_dtypes(exclude=\"object\").columns\n",
    "num_df=pd.DataFrame(index=[index])\n",
    "num=pd.DataFrame()\n",
    "for i in num_col:\n",
    "    count=len(visa_df[i])\n",
    "    min=visa_df[i].min()\n",
    "    max=visa_df[i].max()\n",
    "    mean=round(visa_df[i].mean(),2)\n",
    "    median=round(visa_df[i].median(),2)\n",
    "    std=round(visa_df[i].std(),2)\n",
    "    per_25=round(np.percentile(visa_df[i],25),2)\n",
    "    per_50=round(np.percentile(visa_df[i],50),2)\n",
    "    per_75=round(np.percentile(visa_df[i],75),2)\n",
    "    l=[count,min, max,mean,median,std,per_25,per_50,per_75]\n",
    "    num_df[i]=l\n",
    "\n",
    "num_df"
   ]
  },
  {
   "cell_type": "code",
   "execution_count": 94,
   "id": "ec698896-f036-4b20-a482-33ff2dd0cb5f",
   "metadata": {},
   "outputs": [
    {
     "ename": "TypeError",
     "evalue": "'float' object is not callable",
     "output_type": "error",
     "traceback": [
      "\u001b[1;31m---------------------------------------------------------------------------\u001b[0m",
      "\u001b[1;31mTypeError\u001b[0m                                 Traceback (most recent call last)",
      "Cell \u001b[1;32mIn[94], line 1\u001b[0m\n\u001b[1;32m----> 1\u001b[0m \u001b[38;5;28mmin\u001b[39m(visa_df[\u001b[38;5;124m\"\u001b[39m\u001b[38;5;124mprevailing_wage\u001b[39m\u001b[38;5;124m\"\u001b[39m])\n",
      "\u001b[1;31mTypeError\u001b[0m: 'float' object is not callable"
     ]
    }
   ],
   "source": [
    "min(visa_df[\"prevailing_wage\"])"
   ]
  },
  {
   "cell_type": "code",
   "execution_count": null,
   "id": "41dcbc73-3e5a-4343-8349-218ff32ba814",
   "metadata": {},
   "outputs": [],
   "source": []
  },
  {
   "cell_type": "markdown",
   "id": "91a1d628-9e50-4d57-9fe6-7c7cbd5cf3b2",
   "metadata": {},
   "source": [
    "**percentile**\n",
    "- 25p :\n",
    "     - Assume that 25 percentile value =X i.e., 25percentile of data is below the X\n",
    "- for example prevailing wage 25p value is: 34015.47\n",
    "    - 25 precentage of people having salary less than 34015.47\n",
    "    - total members 25480\n",
    "    - 25 percentage of 25480=6370\n",
    "    - 6370 people havig wages below 34015.47\n",
    " \n",
    "- for example prevailing wage 50p value is: 70308.209\n",
    "    - 50 precentage of people having salary less than 70308.209\n",
    "    - total members 25480\n",
    "    - 50 percentage of 25480=12740\n",
    "    - 12740 people having wages below 70308.209"
   ]
  },
  {
   "cell_type": "code",
   "execution_count": 95,
   "id": "a7fb163c-57f6-4b8f-84df-c3f685248044",
   "metadata": {},
   "outputs": [
    {
     "data": {
      "text/plain": [
       "34015.479999999996"
      ]
     },
     "execution_count": 95,
     "metadata": {},
     "output_type": "execute_result"
    }
   ],
   "source": [
    "np.percentile(visa_df[\"prevailing_wage\"],25)"
   ]
  },
  {
   "cell_type": "code",
   "execution_count": 96,
   "id": "c9529d84-fba2-4750-bee6-ea24cd40221d",
   "metadata": {},
   "outputs": [
    {
     "data": {
      "text/plain": [
       "12740.0"
      ]
     },
     "execution_count": 96,
     "metadata": {},
     "output_type": "execute_result"
    }
   ],
   "source": [
    "50*25480/100"
   ]
  },
  {
   "cell_type": "code",
   "execution_count": 97,
   "id": "50ee5772-b498-40ab-8095-516fdf1b08d3",
   "metadata": {},
   "outputs": [
    {
     "data": {
      "text/plain": [
       "6370"
      ]
     },
     "execution_count": 97,
     "metadata": {},
     "output_type": "execute_result"
    }
   ],
   "source": [
    "wage=visa_df[\"prevailing_wage\"]\n",
    "p_25=np.percentile(visa_df[\"prevailing_wage\"],25)\n",
    "con=wage<p_25\n",
    "len(visa_df[con])\n",
    "\n"
   ]
  },
  {
   "cell_type": "code",
   "execution_count": 98,
   "id": "dc308230-df36-4fa6-9d16-4ab92e3c17c9",
   "metadata": {},
   "outputs": [
    {
     "name": "stdout",
     "output_type": "stream",
     "text": [
      "70308.20999999999\n"
     ]
    },
    {
     "data": {
      "text/plain": [
       "12740"
      ]
     },
     "execution_count": 98,
     "metadata": {},
     "output_type": "execute_result"
    }
   ],
   "source": [
    "p_50=np.percentile(visa_df[\"prevailing_wage\"],50)\n",
    "print(p_50)\n",
    "len(visa_df[wage<p_50])\n"
   ]
  },
  {
   "cell_type": "code",
   "execution_count": 99,
   "id": "0c68c620-9b75-43c2-a60d-ff60460ffdbd",
   "metadata": {},
   "outputs": [
    {
     "name": "stdout",
     "output_type": "stream",
     "text": [
      "107735.51250000001\n"
     ]
    },
    {
     "data": {
      "text/plain": [
       "19110"
      ]
     },
     "execution_count": 99,
     "metadata": {},
     "output_type": "execute_result"
    }
   ],
   "source": [
    "\n",
    "p_75=np.percentile(visa_df[\"prevailing_wage\"],75)\n",
    "print(p_75)\n",
    "len(visa_df[wage<p_75])"
   ]
  },
  {
   "cell_type": "code",
   "execution_count": null,
   "id": "03cace66-df98-4b00-a43f-c37fc8ff3681",
   "metadata": {},
   "outputs": [],
   "source": []
  },
  {
   "cell_type": "markdown",
   "id": "9790f72a-c3a8-4fb1-ab86-89fd1cd7bf51",
   "metadata": {},
   "source": [
    "****Emperical rule***"
   ]
  },
  {
   "cell_type": "markdown",
   "id": "18f7060b-f31e-4ac3-83f2-f8a2cb2ce0c6",
   "metadata": {},
   "source": [
    "Also known as the 68-95-99.7 rule or the three-sigma rule, this statistical guideline \n",
    "states that in a normal distribution,\n",
    "68% of data falls within one standard deviation of the mean, \n",
    "95% within two, and 99.7% within three"
   ]
  },
  {
   "cell_type": "code",
   "execution_count": 101,
   "id": "33127a34-d7be-405d-91fb-83e37d57525f",
   "metadata": {},
   "outputs": [
    {
     "name": "stdout",
     "output_type": "stream",
     "text": [
      "17171\n",
      "11676.28\n"
     ]
    }
   ],
   "source": [
    "meann=visa_df[\"prevailing_wage\"].mean()\n",
    "st=visa_df[\"prevailing_wage\"].std()\n",
    "lb=meann-1*st\n",
    "ub=meann+1*st\n",
    "con1=visa_df[\"prevailing_wage\"]<ub\n",
    "con2=visa_df[\"prevailing_wage\"]>lb\n",
    "con3=con1 & con2\n",
    "print(len(visa_df[con3]))\n",
    "print(68*len(visa_df[con3])/100)\n",
    "#p_68=np.percentile(visa_df[\"prevailing_wage\"],68)\n",
    "#len(visa_df[visa_df[\"prevailing_wage\"]<p_68])\n"
   ]
  },
  {
   "cell_type": "code",
   "execution_count": null,
   "id": "8541b3dc-602d-4618-9212-1f83b07a7812",
   "metadata": {},
   "outputs": [],
   "source": []
  },
  {
   "cell_type": "code",
   "execution_count": 102,
   "id": "c26658d4-b9d0-475a-be42-ea2314412eec",
   "metadata": {},
   "outputs": [
    {
     "name": "stdout",
     "output_type": "stream",
     "text": [
      "24582\n",
      "2420600\n"
     ]
    },
    {
     "ename": "TypeError",
     "evalue": "unsupported operand type(s) for /: 'NoneType' and 'int'",
     "output_type": "error",
     "traceback": [
      "\u001b[1;31m---------------------------------------------------------------------------\u001b[0m",
      "\u001b[1;31mTypeError\u001b[0m                                 Traceback (most recent call last)",
      "Cell \u001b[1;32mIn[102], line 10\u001b[0m\n\u001b[0;32m      7\u001b[0m con3\u001b[38;5;241m=\u001b[39mcon1 \u001b[38;5;241m&\u001b[39m con2\n\u001b[0;32m      8\u001b[0m \u001b[38;5;28mprint\u001b[39m(\u001b[38;5;28mlen\u001b[39m(visa_df[con3]))\n\u001b[1;32m---> 10\u001b[0m \u001b[38;5;28mprint\u001b[39m(\u001b[38;5;241m95\u001b[39m\u001b[38;5;241m*\u001b[39m\u001b[38;5;28mlen\u001b[39m(visa_df))\u001b[38;5;241m/\u001b[39m\u001b[38;5;241m100\u001b[39m\n",
      "\u001b[1;31mTypeError\u001b[0m: unsupported operand type(s) for /: 'NoneType' and 'int'"
     ]
    }
   ],
   "source": [
    "meann=visa_df[\"prevailing_wage\"].mean()\n",
    "st=visa_df[\"prevailing_wage\"].std()\n",
    "lb=meann-2*st\n",
    "ub=meann+2*st\n",
    "con1=visa_df[\"prevailing_wage\"]<ub\n",
    "con2=visa_df[\"prevailing_wage\"]>lb\n",
    "con3=con1 & con2\n",
    "print(len(visa_df[con3]))\n",
    "\n",
    "print(95*len(visa_df))/100\n"
   ]
  },
  {
   "cell_type": "code",
   "execution_count": null,
   "id": "a6b87d60-c526-496b-bc9c-23f2cfa175e2",
   "metadata": {},
   "outputs": [],
   "source": [
    "\n"
   ]
  },
  {
   "cell_type": "markdown",
   "id": "23edb1cd-b26c-4f06-884f-f838d0d4f7ea",
   "metadata": {},
   "source": [
    "***HISTOGRAM***"
   ]
  },
  {
   "cell_type": "markdown",
   "id": "04b9872f-aa0e-4232-b540-34e400490e97",
   "metadata": {},
   "source": [
    "- by applying imperical rule we observed slight deviation in the count of data \n",
    "ALso mean is slightly deviated from median(50 p) \n",
    "- this gives an indication the data doesnot follow normal distribution\n",
    "to understand more carefully will visualize the data\n",
    "it is numerical data the plot name is histogram\n",
    "- histogram is a grph between CLass in tervals and class interval frequency\n",
    "- the plot is avaliable in matplotlib package\n",
    "- the method name is **hist**\n",
    "- bis=how many intervals we want\n",
    "- histogram will return 3 values\n",
    "       - intreval count array\n",
    "              - we have 20 intervals ,so we have 20 interval counts\n",
    "       - bins means number of intervals\n",
    "              - we have 20 intervals, so we need 21 values\n",
    "      - will displa how many intervals are avaliable\n",
    "\n",
    "- for exaple in the bins array the first two forms a array count\n",
    "      - 2.136 ro 15962.543 the count is 3863\n",
    "      - 3863 abservations are avaliable from 2.136 to 3863"
   ]
  },
  {
   "cell_type": "code",
   "execution_count": 108,
   "id": "4502e4af-de73-4672-a68e-cd6d28f17ee8",
   "metadata": {},
   "outputs": [
    {
     "data": {
      "text/plain": [
       "(array([3863., 2175., 2676., 2828., 2889., 2792., 2485., 2066., 1452.,\n",
       "         882.,  408.,  216.,  206.,  167.,  129.,  111.,   66.,   48.,\n",
       "          10.,   11.]),\n",
       " array([2.13670000e+00, 1.59625434e+04, 3.19229500e+04, 4.78833567e+04,\n",
       "        6.38437634e+04, 7.98041700e+04, 9.57645767e+04, 1.11724983e+05,\n",
       "        1.27685390e+05, 1.43645797e+05, 1.59606203e+05, 1.75566610e+05,\n",
       "        1.91527017e+05, 2.07487423e+05, 2.23447830e+05, 2.39408237e+05,\n",
       "        2.55368643e+05, 2.71329050e+05, 2.87289457e+05, 3.03249863e+05,\n",
       "        3.19210270e+05]),\n",
       " <BarContainer object of 20 artists>)"
      ]
     },
     "execution_count": 108,
     "metadata": {},
     "output_type": "execute_result"
    },
    {
     "data": {
      "image/png": "[encoded data removed]",
      "text/plain": [
       "<Figure size 640x480 with 1 Axes>"
      ]
     },
     "metadata": {},
     "output_type": "display_data"
    }
   ],
   "source": [
    "plt.hist(visa_df[\"prevailing_wage\"],bins=20)"
   ]
  },
  {
   "cell_type": "code",
   "execution_count": 110,
   "id": "6ec2fa26-801d-4f18-847c-f0dc2842c0b0",
   "metadata": {},
   "outputs": [
    {
     "name": "stdout",
     "output_type": "stream",
     "text": [
      "20\n",
      "21\n",
      "<BarContainer object of 20 artists>\n"
     ]
    },
    {
     "data": {
      "image/png": "[encoded data removed]",
      "text/plain": [
       "<Figure size 640x480 with 1 Axes>"
      ]
     },
     "metadata": {},
     "output_type": "display_data"
    }
   ],
   "source": [
    "count,bins,x=plt.hist(visa_df[\"prevailing_wage\"],bins=20)\n",
    "print(len(count))\n",
    "print(len(bins))\n",
    "print(x)"
   ]
  },
  {
   "cell_type": "code",
   "execution_count": 117,
   "id": "247ed87d-5e24-4740-b5a3-b0f0cc0e1b92",
   "metadata": {},
   "outputs": [
    {
     "name": "stdout",
     "output_type": "stream",
     "text": [
      "3863\n"
     ]
    }
   ],
   "source": [
    "\n",
    "meann=visa_df[\"prevailing_wage\"].mean()\n",
    "st=visa_df[\"prevailing_wage\"].std()\n",
    "lb=2.13670000e+00\n",
    "ub=1.59625434e+04\n",
    "con1=visa_df[\"prevailing_wage\"]<=ub\n",
    "con2=visa_df[\"prevailing_wage\"]>=lb\n",
    "con3=con1 & con2\n",
    "print(len(visa_df[con3]))\n",
    "\n"
   ]
  },
  {
   "cell_type": "code",
   "execution_count": 118,
   "id": "d591a1dc-1fa1-45cc-90bb-8aaf37ca08cb",
   "metadata": {},
   "outputs": [
    {
     "name": "stdout",
     "output_type": "stream",
     "text": [
      "2175\n"
     ]
    }
   ],
   "source": [
    "\n",
    "meann=visa_df[\"prevailing_wage\"].mean()\n",
    "st=visa_df[\"prevailing_wage\"].std()\n",
    "lb= 1.59625434e+04\n",
    "ub=3.19229500e+04\n",
    "con1=visa_df[\"prevailing_wage\"]<=ub\n",
    "con2=visa_df[\"prevailing_wage\"]>=lb\n",
    "con3=con1 & con2\n",
    "print(len(visa_df[con3]))\n",
    "\n"
   ]
  },
  {
   "cell_type": "code",
   "execution_count": 155,
   "id": "d107710a-78ae-4188-bbda-54e9aaf5b4fe",
   "metadata": {},
   "outputs": [
    {
     "data": {
      "text/html": [
       "<div>\n",
       "<style scoped>\n",
       "    .dataframe tbody tr th:only-of-type {\n",
       "        vertical-align: middle;\n",
       "    }\n",
       "\n",
       "    .dataframe tbody tr th {\n",
       "        vertical-align: top;\n",
       "    }\n",
       "\n",
       "    .dataframe thead th {\n",
       "        text-align: right;\n",
       "    }\n",
       "</style>\n",
       "<table border=\"1\" class=\"dataframe\">\n",
       "  <thead>\n",
       "    <tr style=\"text-align: right;\">\n",
       "      <th></th>\n",
       "      <th>bins</th>\n",
       "      <th>count</th>\n",
       "    </tr>\n",
       "  </thead>\n",
       "  <tbody>\n",
       "    <tr>\n",
       "      <th>0</th>\n",
       "      <td>(15962.543365000001, 31922.950030000004)</td>\n",
       "      <td>3863.0</td>\n",
       "    </tr>\n",
       "    <tr>\n",
       "      <th>1</th>\n",
       "      <td>(31922.950030000004, 47883.35669500001)</td>\n",
       "      <td>2175.0</td>\n",
       "    </tr>\n",
       "    <tr>\n",
       "      <th>2</th>\n",
       "      <td>(47883.35669500001, 63843.76336000001)</td>\n",
       "      <td>2676.0</td>\n",
       "    </tr>\n",
       "    <tr>\n",
       "      <th>3</th>\n",
       "      <td>(63843.76336000001, 79804.17002500001)</td>\n",
       "      <td>2828.0</td>\n",
       "    </tr>\n",
       "    <tr>\n",
       "      <th>4</th>\n",
       "      <td>(79804.17002500001, 95764.57669000002)</td>\n",
       "      <td>2889.0</td>\n",
       "    </tr>\n",
       "    <tr>\n",
       "      <th>5</th>\n",
       "      <td>(95764.57669000002, 111724.98335500002)</td>\n",
       "      <td>2792.0</td>\n",
       "    </tr>\n",
       "    <tr>\n",
       "      <th>6</th>\n",
       "      <td>(111724.98335500002, 127685.39002000002)</td>\n",
       "      <td>2485.0</td>\n",
       "    </tr>\n",
       "    <tr>\n",
       "      <th>7</th>\n",
       "      <td>(127685.39002000002, 143645.79668500004)</td>\n",
       "      <td>2066.0</td>\n",
       "    </tr>\n",
       "    <tr>\n",
       "      <th>8</th>\n",
       "      <td>(143645.79668500004, 159606.20335000003)</td>\n",
       "      <td>1452.0</td>\n",
       "    </tr>\n",
       "    <tr>\n",
       "      <th>9</th>\n",
       "      <td>(159606.20335000003, 175566.610015)</td>\n",
       "      <td>882.0</td>\n",
       "    </tr>\n",
       "    <tr>\n",
       "      <th>10</th>\n",
       "      <td>(175566.610015, 191527.01668000003)</td>\n",
       "      <td>408.0</td>\n",
       "    </tr>\n",
       "    <tr>\n",
       "      <th>11</th>\n",
       "      <td>(191527.01668000003, 207487.42334500005)</td>\n",
       "      <td>216.0</td>\n",
       "    </tr>\n",
       "    <tr>\n",
       "      <th>12</th>\n",
       "      <td>(207487.42334500005, 223447.83001000003)</td>\n",
       "      <td>206.0</td>\n",
       "    </tr>\n",
       "    <tr>\n",
       "      <th>13</th>\n",
       "      <td>(223447.83001000003, 239408.23667500002)</td>\n",
       "      <td>167.0</td>\n",
       "    </tr>\n",
       "    <tr>\n",
       "      <th>14</th>\n",
       "      <td>(239408.23667500002, 255368.64334000004)</td>\n",
       "      <td>129.0</td>\n",
       "    </tr>\n",
       "    <tr>\n",
       "      <th>15</th>\n",
       "      <td>(255368.64334000004, 271329.050005)</td>\n",
       "      <td>111.0</td>\n",
       "    </tr>\n",
       "    <tr>\n",
       "      <th>16</th>\n",
       "      <td>(271329.050005, 287289.45667000004)</td>\n",
       "      <td>66.0</td>\n",
       "    </tr>\n",
       "    <tr>\n",
       "      <th>17</th>\n",
       "      <td>(287289.45667000004, 303249.863335)</td>\n",
       "      <td>48.0</td>\n",
       "    </tr>\n",
       "    <tr>\n",
       "      <th>18</th>\n",
       "      <td>(303249.863335, 319210.27)</td>\n",
       "      <td>10.0</td>\n",
       "    </tr>\n",
       "  </tbody>\n",
       "</table>\n",
       "</div>"
      ],
      "text/plain": [
       "                                        bins   count\n",
       "0   (15962.543365000001, 31922.950030000004)  3863.0\n",
       "1    (31922.950030000004, 47883.35669500001)  2175.0\n",
       "2     (47883.35669500001, 63843.76336000001)  2676.0\n",
       "3     (63843.76336000001, 79804.17002500001)  2828.0\n",
       "4     (79804.17002500001, 95764.57669000002)  2889.0\n",
       "5    (95764.57669000002, 111724.98335500002)  2792.0\n",
       "6   (111724.98335500002, 127685.39002000002)  2485.0\n",
       "7   (127685.39002000002, 143645.79668500004)  2066.0\n",
       "8   (143645.79668500004, 159606.20335000003)  1452.0\n",
       "9        (159606.20335000003, 175566.610015)   882.0\n",
       "10       (175566.610015, 191527.01668000003)   408.0\n",
       "11  (191527.01668000003, 207487.42334500005)   216.0\n",
       "12  (207487.42334500005, 223447.83001000003)   206.0\n",
       "13  (223447.83001000003, 239408.23667500002)   167.0\n",
       "14  (239408.23667500002, 255368.64334000004)   129.0\n",
       "15       (255368.64334000004, 271329.050005)   111.0\n",
       "16       (271329.050005, 287289.45667000004)    66.0\n",
       "17       (287289.45667000004, 303249.863335)    48.0\n",
       "18                (303249.863335, 319210.27)    10.0"
      ]
     },
     "execution_count": 155,
     "metadata": {},
     "output_type": "execute_result"
    },
    {
     "data": {
      "image/png": "[encoded data removed]",
      "text/plain": [
       "<Figure size 640x480 with 1 Axes>"
      ]
     },
     "metadata": {},
     "output_type": "display_data"
    }
   ],
   "source": [
    "l=[]\n",
    "count,bins,x=plt.hist(visa_df[\"prevailing_wage\"],bins=20)\n",
    "for j in range(1,len(bins)-1):\n",
    "        l.append((bins[j],bins[j+1]))\n",
    "df_new=pd.DataFrame(zip(l,count),columns=[\"bins\",\"count\"])\n",
    "df_new"
   ]
  },
  {
   "cell_type": "code",
   "execution_count": 140,
   "id": "150b0424-af8f-4082-b26b-720adc48c523",
   "metadata": {},
   "outputs": [],
   "source": [
    "df=pd.DataFrame(columns=[\"bins\",\"count\"])"
   ]
  },
  {
   "cell_type": "code",
   "execution_count": 141,
   "id": "5b60884a-94c9-4988-8c41-5dbb6dd9d734",
   "metadata": {},
   "outputs": [
    {
     "data": {
      "text/html": [
       "<div>\n",
       "<style scoped>\n",
       "    .dataframe tbody tr th:only-of-type {\n",
       "        vertical-align: middle;\n",
       "    }\n",
       "\n",
       "    .dataframe tbody tr th {\n",
       "        vertical-align: top;\n",
       "    }\n",
       "\n",
       "    .dataframe thead th {\n",
       "        text-align: right;\n",
       "    }\n",
       "</style>\n",
       "<table border=\"1\" class=\"dataframe\">\n",
       "  <thead>\n",
       "    <tr style=\"text-align: right;\">\n",
       "      <th></th>\n",
       "      <th>bins</th>\n",
       "      <th>count</th>\n",
       "    </tr>\n",
       "  </thead>\n",
       "  <tbody>\n",
       "  </tbody>\n",
       "</table>\n",
       "</div>"
      ],
      "text/plain": [
       "Empty DataFrame\n",
       "Columns: [bins, count]\n",
       "Index: []"
      ]
     },
     "execution_count": 141,
     "metadata": {},
     "output_type": "execute_result"
    }
   ],
   "source": [
    "df"
   ]
  },
  {
   "cell_type": "code",
   "execution_count": null,
   "id": "400f08d3-d506-4edc-8c01-d079222f344c",
   "metadata": {},
   "outputs": [],
   "source": []
  }
 ],
 "metadata": {
  "kernelspec": {
   "display_name": "Python 3 (ipykernel)",
   "language": "python",
   "name": "python3"
  },
  "language_info": {
   "codemirror_mode": {
    "name": "ipython",
    "version": 3
   },
   "file_extension": ".py",
   "mimetype": "text/x-python",
   "name": "python",
   "nbconvert_exporter": "python",
   "pygments_lexer": "ipython3",
   "version": "3.11.7"
  }
 },
 "nbformat": 4,
 "nbformat_minor": 5
}
